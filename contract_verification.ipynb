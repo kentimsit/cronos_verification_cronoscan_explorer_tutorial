{
 "cells": [
  {
   "cell_type": "markdown",
   "metadata": {},
   "source": [
    "# Contract Verification - Export from Cronoscan to Cronos Explorer\n"
   ]
  },
  {
   "cell_type": "markdown",
   "metadata": {},
   "source": [
    "## Configuration\n"
   ]
  },
  {
   "cell_type": "code",
   "execution_count": 50,
   "metadata": {},
   "outputs": [],
   "source": [
    "import os\n",
    "from dotenv import load_dotenv\n",
    "\n",
    "\n",
    "load_dotenv(override=True)\n",
    "\n",
    "cronoscan_api_key = os.getenv(\"CRONOSCAN_API_KEY\", \"\")\n",
    "cronos_explorer_api_key = os.getenv(\"CRONOS_EXPLORER_EVM_MAINNET_API_KEY\", \"\")\n",
    "\n",
    "# Enter list of contract addresses here as a list\n",
    "# contract_addresses = [\n",
    "#     \"0x788512ec1eC02AD9b376dc6ea777798565791C29\", # failed\n",
    "#     \"0x7eD3C11FA9aCF7f5e34dcA571e5058C2a75401F5\", # failed\n",
    "# ]\n",
    "\n",
    "contract_addresses = [\"0x7eD3C11FA9aCF7f5e34dcA571e5058C2a75401F5\"]"
   ]
  },
  {
   "cell_type": "markdown",
   "metadata": {},
   "source": [
    "# Process verifications\n"
   ]
  },
  {
   "cell_type": "code",
   "execution_count": 51,
   "metadata": {},
   "outputs": [
    {
     "name": "stdout",
     "output_type": "stream",
     "text": [
      "\n",
      "Processing contract address:  0x7eD3C11FA9aCF7f5e34dcA571e5058C2a75401F5\n",
      "Contract name:  ERC1967ProxyWithAdminControl\n",
      "Compiler version:  0.8.3\n",
      "Optimization used:  True\n",
      "Optimization runs:  10\n",
      "Type of source code:  standard_json\n",
      "Requesting verification: standard JSON...\n",
      "{\"status\":\"1\",\"message\":\"OK\",\"result\":{\"name\":\"ERC1967ProxyWithAdminControl\",\"settingsMetadata\":\"\",\"reason\":\"\",\"contractAddress\":\"0x7eD3C11FA9aCF7f5e34dcA571e5058C2a75401F5\",\"contractCreationTx\":\"0xd593cb7888f67e2d674ba6be17457a7deaa33dbc04c5a0d205ed143696cbcd60\",\"optimizerEnabled\":true,\"proxy\":null,\"createdAt\":\"2025-03-06T15:47:07.779746172Z\",\"contractVerificationId\":\"227ea4e8-89d8-40a1-9495-ca88562fc191\",\"license\":\"\",\"optimizerRuns\":10,\"bytecode\":\"\",\"optimizerDetails\":\"\",\"status\":\"Pending\",\"updatedAt\":\"2025-03-06T15:47:07.779746172Z\",\"compilerVersion\":\"0.8.3\",\"implementation\":\"\"}}\n",
      "\n",
      "contractVerificationId:  227ea4e8-89d8-40a1-9495-ca88562fc191\n",
      "Waiting 20 seconds before checking verification status...\n",
      "{'status': '1', 'message': 'OK', 'result': 'Fail - Unable to verify'}\n"
     ]
    }
   ],
   "source": [
    "import time\n",
    "import importlib\n",
    "import utils.contract_verification as contract_verification\n",
    "\n",
    "importlib.reload(contract_verification)\n",
    "\n",
    "contract_verification_instance = contract_verification.ContractVerification(\n",
    "    cronoscan_api_key=cronoscan_api_key,\n",
    "    cronos_explorer_api_key=cronos_explorer_api_key,\n",
    ")\n",
    "\n",
    "for contract_address in contract_addresses:\n",
    "    try:\n",
    "        print(\"\\nProcessing contract address: \", contract_address)\n",
    "        contract_details = contract_verification_instance.query_cronoscan(\n",
    "            contract_address\n",
    "        )\n",
    "        verification_request = contract_verification_instance.verify_contract(\n",
    "            contract_details\n",
    "        )\n",
    "        print(\"Waiting 20 seconds before checking verification status...\")\n",
    "        time.sleep(20)\n",
    "        verification_status = contract_verification_instance.get_verification_status(\n",
    "            verification_request[\"verification_id\"]\n",
    "        )\n",
    "        time.sleep(5)\n",
    "    except Exception as e:\n",
    "        print(\"Error processing contract address: \", contract_address)\n",
    "        print(\"Error: \", e)\n",
    "        print(\"Waiting 5 seconds before moving on...\")\n",
    "        time.sleep(5)"
   ]
  }
 ],
 "metadata": {
  "kernelspec": {
   "display_name": "cronos-verification-cronoscan-explorer-tut-ORJKKjJC-py3.12",
   "language": "python",
   "name": "python3"
  },
  "language_info": {
   "codemirror_mode": {
    "name": "ipython",
    "version": 3
   },
   "file_extension": ".py",
   "mimetype": "text/x-python",
   "name": "python",
   "nbconvert_exporter": "python",
   "pygments_lexer": "ipython3",
   "version": "3.12.6"
  }
 },
 "nbformat": 4,
 "nbformat_minor": 2
}
